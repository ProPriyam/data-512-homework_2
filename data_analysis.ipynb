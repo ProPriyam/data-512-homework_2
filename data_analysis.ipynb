{
 "cells": [
  {
   "cell_type": "markdown",
   "metadata": {},
   "source": [
    "# Wikipedia Politicians Analysis"
   ]
  },
  {
   "cell_type": "markdown",
   "metadata": {},
   "source": [
    "## Import Libraries"
   ]
  },
  {
   "cell_type": "code",
   "execution_count": 6,
   "metadata": {},
   "outputs": [],
   "source": [
    "import pandas as pd\n",
    "import numpy as np"
   ]
  },
  {
   "cell_type": "markdown",
   "metadata": {},
   "source": [
    "## Load and Preprocess Data\n",
    "\n",
    "In this cell, we:\n",
    "1. Load the CSV file containing data about Wikipedia articles on politicians by country.\n",
    "2. Convert the population from millions to the actual number.\n",
    "3. Filter out countries with zero population.\n",
    "4. Define high-quality articles as those marked as 'FA' (Featured Article) or 'GA' (Good Article)."
   ]
  },
  {
   "cell_type": "code",
   "execution_count": 7,
   "metadata": {},
   "outputs": [],
   "source": [
    "# Load the CSV file\n",
    "df = pd.read_csv('output_data/wp_politicians_by_country.csv')\n",
    "\n",
    "# Convert population to actual number (from millions) and filter out zero population\n",
    "df['population'] = df['population'] * 1_000_000\n",
    "df = df[df['population'] > 0]\n",
    "\n",
    "# Define high-quality articles\n",
    "df['is_high_quality'] = df['article_quality'].isin(['FA', 'GA'])"
   ]
  },
  {
   "cell_type": "markdown",
   "metadata": {},
   "source": [
    "## Calculate Country Metrics\n",
    "\n",
    "Here, we:\n",
    "1. Group the data by country and calculate total articles, high-quality articles, and population for each country.\n",
    "2. Calculate per capita metrics for total articles and high-quality articles per million people."
   ]
  },
  {
   "cell_type": "code",
   "execution_count": 8,
   "metadata": {},
   "outputs": [],
   "source": [
    "# Group by country and calculate metrics\n",
    "country_metrics = df.groupby('country').agg({\n",
    "    'article_title': 'count',\n",
    "    'is_high_quality': 'sum',\n",
    "    'population': 'first'\n",
    "}).reset_index()\n",
    "\n",
    "# Calculate per capita metrics (per 1,000,000 people)\n",
    "country_metrics['total_articles_per_capita'] = (country_metrics['article_title'] / country_metrics['population']) * 1_000_000\n",
    "country_metrics['high_quality_articles_per_capita'] = (country_metrics['is_high_quality'] / country_metrics['population']) * 1_000_000"
   ]
  },
  {
   "cell_type": "markdown",
   "metadata": {},
   "source": [
    "## Calculate Region Metrics"
   ]
  },
  {
   "cell_type": "markdown",
   "metadata": {},
   "source": [
    "Similar to country metrics, we:\n",
    "1. Group the data by region and calculate total articles, high-quality articles, and population for each region.\n",
    "2. Calculate per capita metrics for total articles and high-quality articles per million people at the regional level.\n"
   ]
  },
  {
   "cell_type": "code",
   "execution_count": 9,
   "metadata": {},
   "outputs": [],
   "source": [
    "# Group by region and calculate metrics\n",
    "region_metrics = df.groupby('region').agg({\n",
    "    'article_title': 'count',\n",
    "    'is_high_quality': 'sum',\n",
    "    'population': 'sum'\n",
    "}).reset_index()\n",
    "\n",
    "# Calculate per capita metrics for regions (per 1,000,000 people)\n",
    "region_metrics['total_articles_per_capita'] = (region_metrics['article_title'] / region_metrics['population']) * 1_000_000\n",
    "region_metrics['high_quality_articles_per_capita'] = (region_metrics['is_high_quality'] / region_metrics['population']) * 1_000_000"
   ]
  },
  {
   "cell_type": "markdown",
   "metadata": {},
   "source": [
    "## Define Formatting Function"
   ]
  },
  {
   "cell_type": "markdown",
   "metadata": {},
   "source": [
    "This function is defined to format our dataframes into markdown tables for better readability in the notebook output.\n"
   ]
  },
  {
   "cell_type": "code",
   "execution_count": 10,
   "metadata": {},
   "outputs": [],
   "source": [
    "# Function to format tables\n",
    "def format_table(df, columns, title):\n",
    "    formatted_df = df[columns].copy()\n",
    "    for col in formatted_df.select_dtypes(include=['float64']).columns:\n",
    "        formatted_df[col] = formatted_df[col].apply(lambda x: f'{x:.4f}')\n",
    "    return formatted_df.to_markdown(index=False, tablefmt=\"pipe\")"
   ]
  },
  {
   "cell_type": "markdown",
   "metadata": {},
   "source": [
    "## Country-by-country analysis: total-articles-per-capita and high-quality-articles-per-capita"
   ]
  },
  {
   "cell_type": "code",
   "execution_count": 11,
   "metadata": {},
   "outputs": [
    {
     "name": "stdout",
     "output_type": "stream",
     "text": [
      "Country-by-country analysis: total-articles-per-capita and high-quality-articles-per-capita\n",
      "| country                        |   total_articles_per_capita |   high_quality_articles_per_capita |\n",
      "|:-------------------------------|----------------------------:|-----------------------------------:|\n",
      "| antigua and barbuda            |                    330      |                             0      |\n",
      "| federated states of micronesia |                    140      |                             0      |\n",
      "| marshall islands               |                    130      |                             0      |\n",
      "| tonga                          |                    100      |                             0      |\n",
      "| barbados                       |                     83.3333 |                             0      |\n",
      "| seychelles                     |                     60      |                             0      |\n",
      "| montenegro                     |                     60      |                             5      |\n",
      "| bhutan                         |                     55      |                             0      |\n",
      "| maldives                       |                     55      |                             1.6667 |\n",
      "| samoa                          |                     40      |                             0      |\n",
      "| st. vincent and the grenadines |                     40      |                             0      |\n",
      "| luxembourg                     |                     38.5714 |                             2.8571 |\n",
      "| st. kitts and nevis            |                     30      |                             0      |\n",
      "| bahrain                        |                     26.875  |                             0.625  |\n",
      "| albania                        |                     25.9259 |                             2.5926 |\n",
      "| comoros                        |                     25.5556 |                             0      |\n",
      "| bahamas                        |                     22.5    |                             0      |\n",
      "| guyana                         |                     21.25   |                             1.25   |\n",
      "| moldova                        |                     20      |                             0.2941 |\n",
      "| grenada                        |                     20      |                             0      |\n",
      "| lithuania                      |                     20      |                             1.3793 |\n",
      "| slovenia                       |                     18.0952 |                             0.9524 |\n",
      "| belize                         |                     18      |                             0      |\n",
      "| croatia                        |                     17.1053 |                             1.3158 |\n",
      "| kosovo                         |                     15.2941 |                             2.3529 |\n",
      "| st. lucia                      |                     15      |                             0      |\n",
      "| north macedonia                |                     15      |                             0.5556 |\n",
      "| cape verde                     |                     15      |                             0      |\n",
      "| solomon islands                |                     15      |                             0      |\n",
      "| djibouti                       |                     13.6364 |                             0      |\n",
      "| vanuatu                        |                     13.3333 |                             0      |\n",
      "| trinidad and tobago            |                     12.8571 |                             0.7143 |\n",
      "| bosnia herzegovina             |                     12.6471 |                             0.5882 |\n",
      "| cyprus                         |                     12.3077 |                             0      |\n",
      "| armenia                        |                     12      |                             0.3333 |\n",
      "| serbia                         |                     11.9697 |                             0.9091 |\n",
      "| costa rica                     |                     11.5094 |                             0.1887 |\n",
      "| palestinian territory          |                     11.0909 |                             1.0909 |\n",
      "| timor leste                    |                     10.7143 |                             0      |\n",
      "| estonia                        |                     10.7143 |                             0      |\n",
      "| bulgaria                       |                     10.3125 |                             0.4688 |\n",
      "| uruguay                        |                     10      |                             0.2778 |\n",
      "| switzerland                    |                      9.8864 |                             0.7955 |\n",
      "| lebanon                        |                      9.4444 |                             0.1852 |\n",
      "| hungary                        |                      8.9583 |                             0.2083 |\n",
      "| austria                        |                      8.0435 |                             0.1087 |\n",
      "| azerbaijan                     |                      7.8431 |                             0.2941 |\n",
      "| finland                        |                      7.3214 |                             0.3571 |\n",
      "| portugal                       |                      7.1429 |                             0.1905 |\n",
      "| namibia                        |                      6.9231 |                             0      |\n",
      "| sweden                         |                      6.5714 |                             0.1905 |\n",
      "| belgium                        |                      6.5254 |                             0.0847 |\n",
      "| gambia                         |                      6.4286 |                             0      |\n",
      "| south sudan                    |                      6.3063 |                             0.2703 |\n",
      "| panama                         |                      6.2222 |                             0.6667 |\n",
      "| mauritania                     |                      6.1224 |                             0.4082 |\n",
      "| slovakia                       |                      6.1111 |                             0.1852 |\n",
      "| somalia                        |                      5.6354 |                             0.1105 |\n",
      "| czechia                        |                      5.5046 |                             0.1835 |\n",
      "| congo                          |                      5.082  |                             0      |\n",
      "| greece                         |                      4.9057 |                             0.0943 |\n",
      "| tunisia                        |                      4.8739 |                             0.3361 |\n",
      "| liberia                        |                      4.6296 |                             0      |\n",
      "| cuba                           |                      4.5455 |                             0.5455 |\n",
      "| libya                          |                      4.4928 |                             0.4348 |\n",
      "| el salvador                    |                      4.375  |                             0.4688 |\n",
      "| belarus                        |                      4.2391 |                             0.5435 |\n",
      "| poland                         |                      4.2175 |                             0.1857 |\n",
      "| oman                           |                      4.2    |                             0      |\n",
      "| zimbabwe                       |                      4.1317 |                             0      |\n",
      "| eritrea                        |                      4.0541 |                             0      |\n",
      "| kuwait                         |                      3.8636 |                             0      |\n",
      "| latvia                         |                      3.6842 |                             0.5263 |\n",
      "| guinea-bissau                  |                      3.6364 |                             0      |\n",
      "| paraguay                       |                      3.5484 |                             0      |\n",
      "| dominican republic             |                      3.2743 |                             0.177  |\n",
      "| jordan                         |                      3.1579 |                             0.1754 |\n",
      "| chile                          |                      2.95   |                             0.05   |\n",
      "| haiti                          |                      2.931  |                             0      |\n",
      "| spain                          |                      2.8364 |                             0.3727 |\n",
      "| sri lanka                      |                      2.8194 |                             0.2203 |\n",
      "| kyrgyzstan                     |                      2.7941 |                             0.1471 |\n",
      "| mongolia                       |                      2.5714 |                             0.2857 |\n",
      "| italy                          |                      2.517  |                             0.034  |\n",
      "| sierra leone                   |                      2.4719 |                             0      |\n",
      "| guinea                         |                      2.4648 |                             0.0704 |\n",
      "| central african republic       |                      2.4194 |                             0.1613 |\n",
      "| nicaragua                      |                      2.3529 |                             0      |\n",
      "| kenya                          |                      2.2686 |                             0.0544 |\n",
      "| bolivia                        |                      2.2131 |                             0.1639 |\n",
      "| united arab emirates           |                      2.2105 |                             0.2105 |\n",
      "| peru                           |                      2.1893 |                             0.1479 |\n",
      "| cambodia                       |                      2.1765 |                             0.0588 |\n",
      "| lesotho                        |                      2.1739 |                             0      |\n",
      "| ukraine                        |                      2.1526 |                             0.218  |\n",
      "| gabon                          |                      2.0833 |                             0.4167 |\n",
      "| iraq                           |                      2.044  |                             0.1538 |\n",
      "| malaysia                       |                      2.0359 |                             0      |\n",
      "| afghanistan                    |                      2.0047 |                             0.0708 |\n",
      "| venezuela                      |                      1.9444 |                             0.0347 |\n",
      "| ecuador                        |                      1.9298 |                             0      |\n",
      "| qatar                          |                      1.8519 |                             0      |\n",
      "| nepal                          |                      1.8123 |                             0.1294 |\n",
      "| france                         |                      1.8058 |                             0.0759 |\n",
      "| honduras                       |                      1.7526 |                             0      |\n",
      "| morocco                        |                      1.7297 |                             0.0811 |\n",
      "| korea                          |                      1.7268 |                             0.1675 |\n",
      "| kazakhstan                     |                      1.7085 |                             0.1508 |\n",
      "| senegal                        |                      1.694  |                             0      |\n",
      "| turkmenistan                   |                      1.6901 |                             0      |\n",
      "| malta                          |                      1.6667 |                             0      |\n",
      "| cameroon                       |                      1.6014 |                             0.0712 |\n",
      "| south africa                   |                      1.598  |                             0.1318 |\n",
      "| syria                          |                      1.5948 |                             0.0862 |\n",
      "| angola                         |                      1.5804 |                             0.0545 |\n",
      "| guatemala                      |                      1.547  |                             0.1657 |\n",
      "| algeria                        |                      1.5171 |                             0.0214 |\n",
      "| colombia                       |                      1.4943 |                             0.0192 |\n",
      "| argentina                      |                      1.3823 |                             0.0216 |\n",
      "| tajikistan                     |                      1.3725 |                             0.098  |\n",
      "| uganda                         |                      1.3374 |                             0.0206 |\n",
      "| myanmar                        |                      1.3357 |                             0.0361 |\n",
      "| mali                           |                      1.2446 |                             0.0429 |\n",
      "| germany                        |                      1.2132 |                             0.0589 |\n",
      "| burundi                        |                      1.2121 |                             0.2273 |\n",
      "| equatorial guinea              |                      1.1765 |                             0      |\n",
      "| madagascar                     |                      1.1513 |                             0.0329 |\n",
      "| chad                           |                      1.1475 |                             0      |\n",
      "| burkina faso                   |                      1.1354 |                             0.0873 |\n",
      "| rwanda                         |                      1.1348 |                             0.1418 |\n",
      "| botswana                       |                      1.1111 |                             0      |\n",
      "| nigeria                        |                      1.0947 |                             0.0268 |\n",
      "| papua new guinea               |                      1.0526 |                             0.1053 |\n",
      "| sudan                          |                      0.9563 |                             0.104  |\n",
      "| japan                          |                      0.9398 |                             0.0161 |\n",
      "| yemen                          |                      0.9302 |                             0      |\n",
      "| russia                         |                      0.8101 |                             0.0613 |\n",
      "| malawi                         |                      0.8081 |                             0      |\n",
      "| iran                           |                      0.7735 |                             0.0336 |\n",
      "| singapore                      |                      0.6897 |                             0      |\n",
      "| uzbekistan                     |                      0.6868 |                             0      |\n",
      "| laos                           |                      0.6667 |                             0      |\n",
      "| togo                           |                      0.6593 |                             0      |\n",
      "| thailand                       |                      0.6515 |                             0.0758 |\n",
      "| turkey                         |                      0.6192 |                             0      |\n",
      "| niger                          |                      0.5882 |                             0      |\n",
      "| congo dr                       |                      0.5181 |                             0.0196 |\n",
      "| benin                          |                      0.5109 |                             0      |\n",
      "| brazil                         |                      0.5049 |                             0.0294 |\n",
      "| tanzania                       |                      0.4748 |                             0      |\n",
      "| taiwan                         |                      0.4274 |                             0      |\n",
      "| bangladesh                     |                      0.4265 |                             0.0058 |\n",
      "| indonesia                      |                      0.4055 |                             0.0538 |\n",
      "| pakistan                       |                      0.3909 |                             0.0166 |\n",
      "| vietnam                        |                      0.364  |                             0.0202 |\n",
      "| mozambique                     |                      0.354  |                             0      |\n",
      "| ethiopia                       |                      0.3478 |                             0.0158 |\n",
      "| cote d'ivoire                  |                      0.3236 |                             0      |\n",
      "| egypt                          |                      0.3042 |                             0.0095 |\n",
      "| israel                         |                      0.2041 |                             0      |\n",
      "| norway                         |                      0.1818 |                             0      |\n",
      "| zambia                         |                      0.1485 |                             0      |\n",
      "| saudi arabia                   |                      0.1355 |                             0.0542 |\n",
      "| india                          |                      0.1057 |                             0      |\n",
      "| ghana                          |                      0.088  |                             0.0293 |\n",
      "| china                          |                      0.0113 |                             0      |\n",
      "\n"
     ]
    }
   ],
   "source": [
    "\n",
    "print(\"Country-by-country analysis: total-articles-per-capita and high-quality-articles-per-capita\")\n",
    "country_analysis = country_metrics[['country', 'total_articles_per_capita', 'high_quality_articles_per_capita']].sort_values('total_articles_per_capita', ascending=False)\n",
    "print(format_table(country_analysis, ['country', 'total_articles_per_capita', 'high_quality_articles_per_capita'], \"Country-by-Country Analysis\"))\n",
    "print()"
   ]
  },
  {
   "cell_type": "markdown",
   "metadata": {},
   "source": [
    "## Regional analysis: total-articles-per-capita and high-quality-articles-per-capita"
   ]
  },
  {
   "cell_type": "code",
   "execution_count": 12,
   "metadata": {},
   "outputs": [
    {
     "name": "stdout",
     "output_type": "stream",
     "text": [
      " Regional analysis: total-articles-per-capita and high-quality-articles-per-capita\n",
      "| region          |   total_articles_per_capita |   high_quality_articles_per_capita |\n",
      "|:----------------|----------------------------:|-----------------------------------:|\n",
      "| OCEANIA         |                      0.6391 |                             0.009  |\n",
      "| NORTHERN EUROPE |                      0.1644 |                             0.0077 |\n",
      "| CARIBBEAN       |                      0.1553 |                             0.0064 |\n",
      "| CENTRAL AMERICA |                      0.1323 |                             0.0071 |\n",
      "| CENTRAL ASIA    |                      0.0535 |                             0.0026 |\n",
      "| WESTERN ASIA    |                      0.0456 |                             0.002  |\n",
      "| SOUTHERN EUROPE |                      0.0444 |                             0.003  |\n",
      "| EASTERN AFRICA  |                      0.0278 |                             0.0007 |\n",
      "| WESTERN EUROPE  |                      0.0257 |                             0.0011 |\n",
      "| NORTHERN AFRICA |                      0.0248 |                             0.0014 |\n",
      "| EASTERN EUROPE  |                      0.0244 |                             0.0013 |\n",
      "| MIDDLE AFRICA   |                      0.0242 |                             0.0008 |\n",
      "| SOUTHERN AFRICA |                      0.0207 |                             0.0013 |\n",
      "| SOUTH AMERICA   |                      0.0165 |                             0.0006 |\n",
      "| WESTERN AFRICA  |                      0.0089 |                             0.0002 |\n",
      "| SOUTHEAST ASIA  |                      0.0088 |                             0.0006 |\n",
      "| EAST ASIA       |                      0.0041 |                             0.0001 |\n",
      "| SOUTH ASIA      |                      0.0025 |                             0.0001 |\n"
     ]
    }
   ],
   "source": [
    "print(\" Regional analysis: total-articles-per-capita and high-quality-articles-per-capita\")\n",
    "region_analysis = region_metrics[['region', 'total_articles_per_capita', 'high_quality_articles_per_capita']].sort_values('total_articles_per_capita', ascending=False)\n",
    "print(format_table(region_analysis, ['region', 'total_articles_per_capita', 'high_quality_articles_per_capita'], \"Regional Analysis\"))"
   ]
  },
  {
   "cell_type": "markdown",
   "metadata": {},
   "source": [
    "# Results"
   ]
  },
  {
   "cell_type": "markdown",
   "metadata": {},
   "source": [
    "## Top and Bottom Countries Analysis"
   ]
  },
  {
   "cell_type": "markdown",
   "metadata": {},
   "source": [
    "### 1. Top 10 countries by coverage"
   ]
  },
  {
   "cell_type": "code",
   "execution_count": 13,
   "metadata": {},
   "outputs": [
    {
     "name": "stdout",
     "output_type": "stream",
     "text": [
      "1. Top 10 countries by coverage:\n",
      "| country                        |   total_articles_per_capita |\n",
      "|:-------------------------------|----------------------------:|\n",
      "| antigua and barbuda            |                    330      |\n",
      "| federated states of micronesia |                    140      |\n",
      "| marshall islands               |                    130      |\n",
      "| tonga                          |                    100      |\n",
      "| barbados                       |                     83.3333 |\n",
      "| seychelles                     |                     60      |\n",
      "| montenegro                     |                     60      |\n",
      "| bhutan                         |                     55      |\n",
      "| maldives                       |                     55      |\n",
      "| samoa                          |                     40      |\n",
      "\n"
     ]
    }
   ],
   "source": [
    "top_10_coverage = country_metrics.sort_values('total_articles_per_capita', ascending=False).head(10)\n",
    "print(\"1. Top 10 countries by coverage:\")\n",
    "print(format_table(top_10_coverage, ['country', 'total_articles_per_capita'], \"Top 10 Countries by Total Articles per Capita\"))\n",
    "print()"
   ]
  },
  {
   "cell_type": "markdown",
   "metadata": {},
   "source": [
    "### 2. Bottom 10 countries by coverage"
   ]
  },
  {
   "cell_type": "code",
   "execution_count": 14,
   "metadata": {},
   "outputs": [
    {
     "name": "stdout",
     "output_type": "stream",
     "text": [
      "2. Bottom 10 countries by coverage:\n",
      "| country       |   total_articles_per_capita |\n",
      "|:--------------|----------------------------:|\n",
      "| china         |                      0.0113 |\n",
      "| ghana         |                      0.088  |\n",
      "| india         |                      0.1057 |\n",
      "| saudi arabia  |                      0.1355 |\n",
      "| zambia        |                      0.1485 |\n",
      "| norway        |                      0.1818 |\n",
      "| israel        |                      0.2041 |\n",
      "| egypt         |                      0.3042 |\n",
      "| cote d'ivoire |                      0.3236 |\n",
      "| ethiopia      |                      0.3478 |\n",
      "\n"
     ]
    }
   ],
   "source": [
    "bottom_10_coverage = country_metrics.sort_values('total_articles_per_capita', ascending=True).head(10)\n",
    "print(\"2. Bottom 10 countries by coverage:\")\n",
    "print(format_table(bottom_10_coverage, ['country', 'total_articles_per_capita'], \"Bottom 10 Countries by Total Articles per Capita\"))\n",
    "print()"
   ]
  },
  {
   "cell_type": "markdown",
   "metadata": {},
   "source": [
    "### 3. Top 10 countries by high quality"
   ]
  },
  {
   "cell_type": "code",
   "execution_count": 15,
   "metadata": {},
   "outputs": [
    {
     "name": "stdout",
     "output_type": "stream",
     "text": [
      "3. Top 10 countries by high quality:\n",
      "| country               |   high_quality_articles_per_capita |\n",
      "|:----------------------|-----------------------------------:|\n",
      "| montenegro            |                             5      |\n",
      "| luxembourg            |                             2.8571 |\n",
      "| albania               |                             2.5926 |\n",
      "| kosovo                |                             2.3529 |\n",
      "| maldives              |                             1.6667 |\n",
      "| lithuania             |                             1.3793 |\n",
      "| croatia               |                             1.3158 |\n",
      "| guyana                |                             1.25   |\n",
      "| palestinian territory |                             1.0909 |\n",
      "| slovenia              |                             0.9524 |\n",
      "\n"
     ]
    }
   ],
   "source": [
    "top_10_quality = country_metrics.sort_values('high_quality_articles_per_capita', ascending=False).head(10)\n",
    "print(\"3. Top 10 countries by high quality:\")\n",
    "print(format_table(top_10_quality, ['country', 'high_quality_articles_per_capita'], \"Top 10 Countries by High Quality Articles per Capita\"))\n",
    "print()"
   ]
  },
  {
   "cell_type": "markdown",
   "metadata": {},
   "source": [
    "### 4. Bottom 10 countries by high quality"
   ]
  },
  {
   "cell_type": "code",
   "execution_count": 16,
   "metadata": {},
   "outputs": [
    {
     "name": "stdout",
     "output_type": "stream",
     "text": [
      "4. Bottom 10 countries by high quality:\n",
      "| country                        |   high_quality_articles_per_capita |\n",
      "|:-------------------------------|-----------------------------------:|\n",
      "| zimbabwe                       |                                  0 |\n",
      "| qatar                          |                                  0 |\n",
      "| grenada                        |                                  0 |\n",
      "| gambia                         |                                  0 |\n",
      "| samoa                          |                                  0 |\n",
      "| senegal                        |                                  0 |\n",
      "| federated states of micronesia |                                  0 |\n",
      "| estonia                        |                                  0 |\n",
      "| eritrea                        |                                  0 |\n",
      "| equatorial guinea              |                                  0 |\n",
      "\n"
     ]
    }
   ],
   "source": [
    "bottom_10_quality = country_metrics.sort_values('high_quality_articles_per_capita', ascending=True).head(10)\n",
    "print(\"4. Bottom 10 countries by high quality:\")\n",
    "print(format_table(bottom_10_quality, ['country', 'high_quality_articles_per_capita'], \"Bottom 10 Countries by High Quality Articles per Capita\"))\n",
    "print()"
   ]
  },
  {
   "cell_type": "markdown",
   "metadata": {},
   "source": [
    "### 5. Geographic regions by total coverage"
   ]
  },
  {
   "cell_type": "code",
   "execution_count": 17,
   "metadata": {},
   "outputs": [
    {
     "name": "stdout",
     "output_type": "stream",
     "text": [
      "5. Geographic regions by total coverage:\n",
      "| region          |   total_articles_per_capita |\n",
      "|:----------------|----------------------------:|\n",
      "| OCEANIA         |                      0.6391 |\n",
      "| NORTHERN EUROPE |                      0.1644 |\n",
      "| CARIBBEAN       |                      0.1553 |\n",
      "| CENTRAL AMERICA |                      0.1323 |\n",
      "| CENTRAL ASIA    |                      0.0535 |\n",
      "| WESTERN ASIA    |                      0.0456 |\n",
      "| SOUTHERN EUROPE |                      0.0444 |\n",
      "| EASTERN AFRICA  |                      0.0278 |\n",
      "| WESTERN EUROPE  |                      0.0257 |\n",
      "| NORTHERN AFRICA |                      0.0248 |\n",
      "| EASTERN EUROPE  |                      0.0244 |\n",
      "| MIDDLE AFRICA   |                      0.0242 |\n",
      "| SOUTHERN AFRICA |                      0.0207 |\n",
      "| SOUTH AMERICA   |                      0.0165 |\n",
      "| WESTERN AFRICA  |                      0.0089 |\n",
      "| SOUTHEAST ASIA  |                      0.0088 |\n",
      "| EAST ASIA       |                      0.0041 |\n",
      "| SOUTH ASIA      |                      0.0025 |\n",
      "\n"
     ]
    }
   ],
   "source": [
    "regions_total_coverage = region_metrics.sort_values('total_articles_per_capita', ascending=False)\n",
    "print(\"5. Geographic regions by total coverage:\")\n",
    "print(format_table(regions_total_coverage, ['region', 'total_articles_per_capita'], \"Geographic Regions by Total Articles per Capita\"))\n",
    "print()"
   ]
  },
  {
   "cell_type": "markdown",
   "metadata": {},
   "source": [
    "### 6. Geographic regions by high quality coverage"
   ]
  },
  {
   "cell_type": "code",
   "execution_count": 18,
   "metadata": {},
   "outputs": [
    {
     "name": "stdout",
     "output_type": "stream",
     "text": [
      "6. Geographic regions by high quality coverage:\n",
      "| region          |   high_quality_articles_per_capita |\n",
      "|:----------------|-----------------------------------:|\n",
      "| OCEANIA         |                             0.009  |\n",
      "| NORTHERN EUROPE |                             0.0077 |\n",
      "| CENTRAL AMERICA |                             0.0071 |\n",
      "| CARIBBEAN       |                             0.0064 |\n",
      "| SOUTHERN EUROPE |                             0.003  |\n",
      "| CENTRAL ASIA    |                             0.0026 |\n",
      "| WESTERN ASIA    |                             0.002  |\n",
      "| NORTHERN AFRICA |                             0.0014 |\n",
      "| SOUTHERN AFRICA |                             0.0013 |\n",
      "| EASTERN EUROPE  |                             0.0013 |\n",
      "| WESTERN EUROPE  |                             0.0011 |\n",
      "| MIDDLE AFRICA   |                             0.0008 |\n",
      "| EASTERN AFRICA  |                             0.0007 |\n",
      "| SOUTHEAST ASIA  |                             0.0006 |\n",
      "| SOUTH AMERICA   |                             0.0006 |\n",
      "| WESTERN AFRICA  |                             0.0002 |\n",
      "| EAST ASIA       |                             0.0001 |\n",
      "| SOUTH ASIA      |                             0.0001 |\n"
     ]
    }
   ],
   "source": [
    "regions_quality_coverage = region_metrics.sort_values('high_quality_articles_per_capita', ascending=False)\n",
    "print(\"6. Geographic regions by high quality coverage:\")\n",
    "print(format_table(regions_quality_coverage, ['region', 'high_quality_articles_per_capita'], \"Geographic Regions by High Quality Articles per Capita\"))"
   ]
  }
 ],
 "metadata": {
  "kernelspec": {
   "display_name": "Testing",
   "language": "python",
   "name": "python3"
  },
  "language_info": {
   "codemirror_mode": {
    "name": "ipython",
    "version": 3
   },
   "file_extension": ".py",
   "mimetype": "text/x-python",
   "name": "python",
   "nbconvert_exporter": "python",
   "pygments_lexer": "ipython3",
   "version": "3.12.0"
  }
 },
 "nbformat": 4,
 "nbformat_minor": 2
}
