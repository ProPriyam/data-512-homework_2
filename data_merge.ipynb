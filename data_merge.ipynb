{
 "cells": [
  {
   "cell_type": "markdown",
   "metadata": {},
   "source": [
    "# Data Merge for Wikipedia Politicians Analysis"
   ]
  },
  {
   "cell_type": "markdown",
   "metadata": {},
   "source": [
    "## Import Libraries and Load Data"
   ]
  },
  {
   "cell_type": "code",
   "execution_count": 8,
   "metadata": {},
   "outputs": [],
   "source": [
    "import pandas as pd\n",
    "import numpy as np\n",
    "\n",
    "population_df = pd.read_csv(\"intermediate_data/population_by_country_with_region.csv\") \n",
    "politicians_df = pd.read_csv(\"intermediate_data/politicians_with_quality_and_revisions.csv\") # change this and delete article scores"
   ]
  },
  {
   "cell_type": "markdown",
   "metadata": {},
   "source": [
    "## Data Cleaning and Preprocessing"
   ]
  },
  {
   "cell_type": "markdown",
   "metadata": {},
   "source": [
    "This cell performs initial data cleaning:\n",
    "1. Checks for missing values in both datasets.\n",
    "2. Removes rows with missing values.\n",
    "3. Checks for and removes duplicate entries in both datasets."
   ]
  },
  {
   "cell_type": "code",
   "execution_count": 9,
   "metadata": {},
   "outputs": [
    {
     "name": "stdout",
     "output_type": "stream",
     "text": [
      "Missing values in politicians_df dataset:\n",
      "name            0\n",
      "url             0\n",
      "country         0\n",
      "quality        12\n",
      "revision_id     8\n",
      "dtype: int64\n",
      "\n",
      "Missing values in population_df dataset:\n",
      "country       0\n",
      "Population    0\n",
      "region        0\n",
      "dtype: int64\n",
      "\n",
      "Duplicates in poly dataset:\n",
      "0\n",
      "\n",
      "Duplicates in population_df dataset:\n",
      "0\n"
     ]
    }
   ],
   "source": [
    "# Check for missing values\n",
    "print(\"Missing values in politicians_df dataset:\")\n",
    "print(politicians_df.isnull().sum())\n",
    "print(\"\\nMissing values in population_df dataset:\")\n",
    "print(population_df.isnull().sum())\n",
    "\n",
    "# Remove rows with missing values\n",
    "politicians_df = politicians_df.dropna()\n",
    "population_df = population_df.dropna()\n",
    "\n",
    "# Check for duplicates\n",
    "print(\"\\nDuplicates in poly dataset:\")\n",
    "print(politicians_df.duplicated().sum())\n",
    "print(\"\\nDuplicates in population_df dataset:\")\n",
    "print(population_df.duplicated().sum())\n",
    "\n",
    "# Remove duplicates\n",
    "politicians_df = politicians_df.drop_duplicates()\n",
    "population_df = population_df.drop_duplicates()"
   ]
  },
  {
   "cell_type": "markdown",
   "metadata": {},
   "source": [
    "## Handling outlier like korea and guineabissau"
   ]
  },
  {
   "cell_type": "markdown",
   "metadata": {},
   "source": [
    "\n",
    "This section handles specific outliers and standardizes country names:\n",
    "1. Defines a function to clean and standardize country names.\n",
    "2. Applies the cleaning function to both datasets.\n",
    "3. Combines the population data for North and South Korea into a single entry."
   ]
  },
  {
   "cell_type": "code",
   "execution_count": 10,
   "metadata": {},
   "outputs": [],
   "source": [
    "# Function to clean country names\n",
    "def clean_country_name(name):\n",
    "    name = name.strip().lower()\n",
    "    # Handle specific cases\n",
    "    name_map = {\n",
    "        \"korea (north)\": \"korea\",\n",
    "        \"korea (south)\": \"korea\",\n",
    "        \"korea, south\": \"korea\",\n",
    "        \"korean\": \"korea\",\n",
    "        \"guineabissau\": \"guinea-bissau\"\n",
    "    }\n",
    "    return name_map.get(name, name)\n",
    "\n",
    "# Clean country names in both datasets\n",
    "politicians_df['country'] = politicians_df['country'].apply(clean_country_name)\n",
    "population_df['country'] = population_df['country'].apply(clean_country_name)\n",
    "\n",
    "# Combine North and South Korea population\n",
    "korea_data = population_df[population_df['country'] == 'korea']\n",
    "korea_total_pop = korea_data['Population'].sum()\n",
    "\n",
    "# Remove individual Korea entries and add combined Korea\n",
    "population_df = population_df[population_df['country'] != 'korea']\n",
    "new_korea = pd.DataFrame({'country': ['korea'], 'Population': [korea_total_pop]})\n",
    "population_df = pd.concat([population_df, new_korea], ignore_index=True)"
   ]
  },
  {
   "cell_type": "markdown",
   "metadata": {},
   "source": [
    "## Merging the Datasets"
   ]
  },
  {
   "cell_type": "markdown",
   "metadata": {},
   "source": [
    "This cell merges the two datasets:\n",
    "1. Performs an inner join on the 'country' field.\n",
    "2. Identifies and saves countries that didn't match between the datasets.\n",
    "3. Keeps only the successfully matched data.\n",
    "4. Selects and renames relevant columns for the final dataset."
   ]
  },
  {
   "cell_type": "code",
   "execution_count": 11,
   "metadata": {},
   "outputs": [],
   "source": [
    "# Merge the two datasets on the 'country' field\n",
    "merged_df = pd.merge(politicians_df, population_df, on='country', how='inner', indicator=True)\n",
    "\n",
    "# Save the countries that did not match between the two datasets\n",
    "no_match_df = merged_df[merged_df['_merge'] != 'both'][['country']].drop_duplicates()\n",
    "no_match_df.to_csv('output_data/wp_countries-no_match.txt', index=False, header=False)\n",
    "\n",
    "# Keep only the successfully matched data\n",
    "matched_df = merged_df[merged_df['_merge'] == 'both']\n",
    "\n",
    "# Select relevant columns for the final DataFrame\n",
    "final_df = matched_df[['country', 'region', 'Population', 'name', 'revision_id', 'quality']]\n",
    "\n",
    "# Rename columns as per the assignment's requirement\n",
    "final_df = final_df.rename(columns={\n",
    "    'name': 'article_title',\n",
    "    'quality': 'article_quality',\n",
    "    'Population': 'population'\n",
    "})"
   ]
  },
  {
   "cell_type": "markdown",
   "metadata": {},
   "source": [
    "## Save the Final Dataset and Summary"
   ]
  },
  {
   "cell_type": "code",
   "execution_count": 12,
   "metadata": {},
   "outputs": [
    {
     "name": "stdout",
     "output_type": "stream",
     "text": [
      "\n",
      "Summary of Merged Data:\n",
      "Final merged dataset: 7143 rows\n",
      "Unmatched countries saved to 'wp_countries-no_match.txt'.\n",
      "Final merged dataset saved to 'wp_politicians_by_country.csv'.\n"
     ]
    }
   ],
   "source": [
    "# Save the final merged dataset to a CSV file\n",
    "final_df.to_csv('output_data/wp_politicians_by_country.csv', index=False)\n",
    "\n",
    "# Summary\n",
    "print(\"\\nSummary of Merged Data:\")\n",
    "print(f\"Final merged dataset: {final_df.shape[0]} rows\")\n",
    "print(f\"Unmatched countries saved to 'wp_countries-no_match.txt'.\")\n",
    "print(f\"Final merged dataset saved to 'wp_politicians_by_country.csv'.\")"
   ]
  }
 ],
 "metadata": {
  "kernelspec": {
   "display_name": "Testing",
   "language": "python",
   "name": "python3"
  },
  "language_info": {
   "codemirror_mode": {
    "name": "ipython",
    "version": 3
   },
   "file_extension": ".py",
   "mimetype": "text/x-python",
   "name": "python",
   "nbconvert_exporter": "python",
   "pygments_lexer": "ipython3",
   "version": "3.12.0"
  }
 },
 "nbformat": 4,
 "nbformat_minor": 2
}
